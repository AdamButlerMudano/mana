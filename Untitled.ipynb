{
 "cells": [
  {
   "cell_type": "code",
   "execution_count": null,
   "id": "dc66d122-a117-474f-b10b-af7754d0e195",
   "metadata": {},
   "outputs": [],
   "source": []
  },
  {
   "cell_type": "code",
   "execution_count": 27,
   "id": "4c0995c8-5024-4b20-a789-9dd24d640613",
   "metadata": {},
   "outputs": [
    {
     "name": "stdout",
     "output_type": "stream",
     "text": [
      "4 0 4\n",
      "4 1 2\n",
      "4 2 1\n",
      "4 3 0\n",
      "[2]\n"
     ]
    }
   ],
   "source": [
    "n = 4\n",
    "indices = []\n",
    "mask_num = 4\n",
    "for i in range(n):\n",
    "    print(mask_num, i, mask_num >> i)\n",
    "    if (mask_num >> i) & 1:\n",
    "        indices.append(i)\n",
    "print(indices)"
   ]
  },
  {
   "cell_type": "code",
   "execution_count": 9,
   "id": "49150af1-c94b-41a6-8324-0c64bcfd803f",
   "metadata": {},
   "outputs": [],
   "source": []
  },
  {
   "cell_type": "code",
   "execution_count": 3,
   "id": "48cdb037-6f08-4944-b015-6efd15f10f46",
   "metadata": {},
   "outputs": [
    {
     "data": {
      "text/plain": [
       "1"
      ]
     },
     "execution_count": 3,
     "metadata": {},
     "output_type": "execute_result"
    }
   ],
   "source": [
    "mask_num >> 1"
   ]
  },
  {
   "cell_type": "code",
   "execution_count": 24,
   "id": "63e1ca68-f0fa-42f6-a29c-51d6a594398d",
   "metadata": {},
   "outputs": [
    {
     "data": {
      "text/plain": [
       "'100'"
      ]
     },
     "execution_count": 24,
     "metadata": {},
     "output_type": "execute_result"
    }
   ],
   "source": [
    "'{0:b}'.format(4)"
   ]
  },
  {
   "cell_type": "code",
   "execution_count": null,
   "id": "5b7db8b9-8241-4b50-8e2f-89a9bf1064dd",
   "metadata": {},
   "outputs": [],
   "source": []
  }
 ],
 "metadata": {
  "kernelspec": {
   "display_name": "Python 3 (ipykernel)",
   "language": "python",
   "name": "python3"
  },
  "language_info": {
   "codemirror_mode": {
    "name": "ipython",
    "version": 3
   },
   "file_extension": ".py",
   "mimetype": "text/x-python",
   "name": "python",
   "nbconvert_exporter": "python",
   "pygments_lexer": "ipython3",
   "version": "3.13.7"
  }
 },
 "nbformat": 4,
 "nbformat_minor": 5
}
