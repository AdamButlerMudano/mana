{
 "cells": [
  {
   "cell_type": "code",
   "execution_count": 3,
   "id": "dc66d122-a117-474f-b10b-af7754d0e195",
   "metadata": {},
   "outputs": [],
   "source": [
    "import numpy as np"
   ]
  },
  {
   "cell_type": "code",
   "execution_count": 27,
   "id": "4c0995c8-5024-4b20-a789-9dd24d640613",
   "metadata": {},
   "outputs": [
    {
     "name": "stdout",
     "output_type": "stream",
     "text": [
      "4 0 4\n",
      "4 1 2\n",
      "4 2 1\n",
      "4 3 0\n",
      "[2]\n"
     ]
    }
   ],
   "source": [
    "n = 4\n",
    "indices = []\n",
    "mask_num = 4\n",
    "for i in range(n):\n",
    "    print(mask_num, i, mask_num >> i)\n",
    "    if (mask_num >> i) & 1:\n",
    "        indices.append(i)\n",
    "print(indices)"
   ]
  },
  {
   "cell_type": "code",
   "execution_count": 24,
   "id": "63e1ca68-f0fa-42f6-a29c-51d6a594398d",
   "metadata": {},
   "outputs": [
    {
     "data": {
      "text/plain": [
       "'100'"
      ]
     },
     "execution_count": 24,
     "metadata": {},
     "output_type": "execute_result"
    }
   ],
   "source": [
    "'{0:b}'.format(4)"
   ]
  },
  {
   "cell_type": "code",
   "execution_count": 4,
   "id": "c2ab4beb-7883-4f53-ad8e-ed7fd8d82e95",
   "metadata": {},
   "outputs": [
    {
     "data": {
      "text/plain": [
       "np.int8(1)"
      ]
     },
     "execution_count": 4,
     "metadata": {},
     "output_type": "execute_result"
    }
   ],
   "source": [
    "np.int8(True)"
   ]
  },
  {
   "cell_type": "code",
   "execution_count": 6,
   "id": "a28212f6-abb6-4c6b-9ec9-fb9c4dcccf01",
   "metadata": {},
   "outputs": [
    {
     "data": {
      "text/plain": [
       "np.int8(0)"
      ]
     },
     "execution_count": 6,
     "metadata": {},
     "output_type": "execute_result"
    }
   ],
   "source": [
    "np.int8(False)"
   ]
  },
  {
   "cell_type": "code",
   "execution_count": 8,
   "id": "eeb47001-a889-428b-b567-2e5dd72a1f3c",
   "metadata": {},
   "outputs": [
    {
     "data": {
      "text/plain": [
       "array([1, 0], dtype=int8)"
      ]
     },
     "execution_count": 8,
     "metadata": {},
     "output_type": "execute_result"
    }
   ],
   "source": [
    "np.array([np.int8(True), np.int8(False)])"
   ]
  },
  {
   "cell_type": "code",
   "execution_count": 14,
   "id": "66bd21bb-8e71-4732-9d24-1aa0d5d066e8",
   "metadata": {},
   "outputs": [
    {
     "data": {
      "text/plain": [
       "array([0., 0., 0., 0., 0.])"
      ]
     },
     "execution_count": 14,
     "metadata": {},
     "output_type": "execute_result"
    }
   ],
   "source": [
    "np.zeros(5)"
   ]
  },
  {
   "cell_type": "code",
   "execution_count": 16,
   "id": "1c99b827-69ea-41ee-81e3-74c91f94aeb2",
   "metadata": {},
   "outputs": [],
   "source": [
    "L_MAX = 5"
   ]
  },
  {
   "cell_type": "code",
   "execution_count": 18,
   "id": "eef68997-07b1-4070-91ad-4991daf95bc9",
   "metadata": {},
   "outputs": [],
   "source": [
    "inp = np.array([True, False], dtype=np.int8)"
   ]
  },
  {
   "cell_type": "code",
   "execution_count": 19,
   "id": "b6c4c31d-cf22-465f-8352-5c57e7d76c61",
   "metadata": {},
   "outputs": [
    {
     "data": {
      "text/plain": [
       "array([1, 0, 0, 0, 0], dtype=int8)"
      ]
     },
     "execution_count": 19,
     "metadata": {},
     "output_type": "execute_result"
    }
   ],
   "source": [
    "np.pad(inp, (0, 5-len(inp)), mode='constant')"
   ]
  },
  {
   "cell_type": "code",
   "execution_count": 20,
   "id": "23252977-7a96-42f8-b59b-eafa0d8d1483",
   "metadata": {},
   "outputs": [],
   "source": [
    "from enum import IntEnum"
   ]
  },
  {
   "cell_type": "code",
   "execution_count": 22,
   "id": "5b7db8b9-8241-4b50-8e2f-89a9bf1064dd",
   "metadata": {},
   "outputs": [],
   "source": [
    "class Enum1(IntEnum):\n",
    "    a = 1\n",
    "    b = 2"
   ]
  },
  {
   "cell_type": "code",
   "execution_count": 24,
   "id": "36a3eb0a-2fe1-4063-ba41-d590795bad21",
   "metadata": {},
   "outputs": [],
   "source": [
    "enum1 = Enum1.a"
   ]
  },
  {
   "cell_type": "code",
   "execution_count": 25,
   "id": "3622a894-5b73-43a5-9c2c-b347320f7eea",
   "metadata": {},
   "outputs": [
    {
     "data": {
      "text/plain": [
       "<Enum1.a: 1>"
      ]
     },
     "execution_count": 25,
     "metadata": {},
     "output_type": "execute_result"
    }
   ],
   "source": [
    "enum1"
   ]
  },
  {
   "cell_type": "code",
   "execution_count": 27,
   "id": "70e9e99b-79ea-4aa0-8a77-6b5dfdbed63b",
   "metadata": {},
   "outputs": [
    {
     "data": {
      "text/plain": [
       "array(1, dtype=int8)"
      ]
     },
     "execution_count": 27,
     "metadata": {},
     "output_type": "execute_result"
    }
   ],
   "source": [
    "np.array(enum1, dtype=np.int8)"
   ]
  },
  {
   "cell_type": "code",
   "execution_count": null,
   "id": "59696308-a37e-4522-93ac-1b2aa438aac5",
   "metadata": {},
   "outputs": [],
   "source": []
  }
 ],
 "metadata": {
  "kernelspec": {
   "display_name": "Python 3 (ipykernel)",
   "language": "python",
   "name": "python3"
  },
  "language_info": {
   "codemirror_mode": {
    "name": "ipython",
    "version": 3
   },
   "file_extension": ".py",
   "mimetype": "text/x-python",
   "name": "python",
   "nbconvert_exporter": "python",
   "pygments_lexer": "ipython3",
   "version": "3.13.7"
  }
 },
 "nbformat": 4,
 "nbformat_minor": 5
}
